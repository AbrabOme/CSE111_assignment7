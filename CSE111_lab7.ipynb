{
  "nbformat": 4,
  "nbformat_minor": 0,
  "metadata": {
    "colab": {
      "provenance": []
    },
    "kernelspec": {
      "name": "python3",
      "display_name": "Python 3"
    },
    "language_info": {
      "name": "python"
    }
  },
  "cells": [
    {
      "cell_type": "markdown",
      "source": [
        "# task01"
      ],
      "metadata": {
        "id": "iwVZvqD1Ai8w"
      }
    },
    {
      "cell_type": "code",
      "source": [
        "class Student:\n",
        "    def __init__(self, name='Just a student', dept='nothing'):\n",
        "        self.__name = name\n",
        "        self.__department = dept\n",
        "    def set_department(self, dept):\n",
        "        self.__department = dept\n",
        "    def get_name(self):\n",
        "        return self.__name\n",
        "    def set_name(self,name):\n",
        "        self.__name = name\n",
        "    def __str__(self):\n",
        "        return 'Name: '+self.__name+' Department: '+self.__department\n",
        "class BBA_Student(Student):\n",
        "    def __init__(self, name = 'default'):\n",
        "        super().__init__(name, \"BBA\")\n",
        "#write your code here\n",
        "\n",
        "print(BBA_Student())\n",
        "print(BBA_Student('Humpty Dumpty'))\n",
        "print(BBA_Student('Little Bo Peep'))"
      ],
      "metadata": {
        "colab": {
          "base_uri": "https://localhost:8080/"
        },
        "id": "XsN5e7LbmQvT",
        "outputId": "a3c92987-475d-4938-d420-36c97d12e1c1"
      },
      "execution_count": 1,
      "outputs": [
        {
          "output_type": "stream",
          "name": "stdout",
          "text": [
            "Name: default Department: BBA\n",
            "Name: Humpty Dumpty Department: BBA\n",
            "Name: Little Bo Peep Department: BBA\n"
          ]
        }
      ]
    },
    {
      "cell_type": "markdown",
      "source": [
        "# task02"
      ],
      "metadata": {
        "id": "BxUCQVa9GE9-"
      }
    },
    {
      "cell_type": "code",
      "source": [
        "class Vehicle:\n",
        "    def __init__(self):\n",
        "        self.x = 0\n",
        "        self.y = 0\n",
        "    def moveUp(self):\n",
        "        self.y += 1\n",
        "    def moveDown(self):\n",
        "        self.y -= 1\n",
        "    def moveRight(self):\n",
        "        self.x += 1\n",
        "    def moveLeft(self):\n",
        "        self.x -= 1\n",
        "    def __str__(self):\n",
        "        return '('+str(self.x)+' , '+str(self.y)+')'\n",
        "#write your code here\n",
        "class Vehicle2010(Vehicle):\n",
        "    def moveLowerLeft(self):\n",
        "        self.moveDown()\n",
        "        self.moveLeft()\n",
        "    def equals (self,a):\n",
        "        self.a = a\n",
        "        if self.x == a.x and self.y == a.y:\n",
        "            return True\n",
        "        else:\n",
        "            return False\n",
        "\n",
        "\n",
        "print('Part 1')\n",
        "print('------')\n",
        "car = Vehicle()\n",
        "print(car)\n",
        "car.moveUp()\n",
        "print(car)\n",
        "car.moveLeft()\n",
        "print(car)\n",
        "car.moveDown()\n",
        "print(car)\n",
        "car.moveRight()\n",
        "print(car)\n",
        "print('------')\n",
        "print('Part 2')\n",
        "print('------')\n",
        "car1 = Vehicle2010()\n",
        "print(car1)\n",
        "car1.moveLowerLeft()\n",
        "print(car1)\n",
        "car2 = Vehicle2010()\n",
        "car2.moveLeft()\n",
        "print(car1.equals(car2))\n",
        "car2.moveDown()\n",
        "print(car1.equals(car2))"
      ],
      "metadata": {
        "colab": {
          "base_uri": "https://localhost:8080/"
        },
        "id": "m7L-EHLgBKD_",
        "outputId": "93ea558f-eaf4-4bb7-c5d6-ac651bd2a3b2"
      },
      "execution_count": 14,
      "outputs": [
        {
          "output_type": "stream",
          "name": "stdout",
          "text": [
            "Part 1\n",
            "------\n",
            "(0 , 0)\n",
            "(0 , 1)\n",
            "(-1 , 1)\n",
            "(-1 , 0)\n",
            "(0 , 0)\n",
            "------\n",
            "Part 2\n",
            "------\n",
            "(0 , 0)\n",
            "(-1 , -1)\n",
            "False\n",
            "True\n"
          ]
        }
      ]
    },
    {
      "cell_type": "markdown",
      "source": [
        "# task03"
      ],
      "metadata": {
        "id": "2eSlp0JlRNth"
      }
    },
    {
      "cell_type": "code",
      "source": [
        "class Tournament:\n",
        "    def __init__(self,name='Default'):\n",
        "        self.__name = name\n",
        "    def set_name(self,name):\n",
        "        self.__name = name\n",
        "    def get_name(self):\n",
        "        return self.__name\n",
        "\n",
        "#write your code here\n",
        "class Cricket_Tournament(Tournament):\n",
        "    def __init__(self,name = \"Default\",team = 0,type_ = \"No type\"):\n",
        "        self.set_name(name)\n",
        "        self.team = team\n",
        "        self.type_ = type_\n",
        "    def detail(self):\n",
        "        return f\"Cricket Tournament Name: {self.get_name()}\\nNumber of Teams: {self.team}\\nType: {self.type_}\"\n",
        "        \n",
        "\n",
        "class Tennis_Tournament(Tournament):\n",
        "    def __init__(self,name,playa):\n",
        "        self.set_name(name)\n",
        "        self.playa = playa\n",
        "    def detail (self):\n",
        "        return f\"Tennis Tournament Name: {self.get_name()}\\nNumber of Players: {self.playa}\"\n",
        "\n",
        "ct1 = Cricket_Tournament()\n",
        "print(ct1.detail())\n",
        "print(\"-----------------------\")\n",
        "ct2 = Cricket_Tournament(\"IPL\",10,\"t20\")\n",
        "print(ct2.detail())\n",
        "print(\"-----------------------\")\n",
        "tt = Tennis_Tournament(\"Roland Garros\",128)\n",
        "print(tt.detail())\n"
      ],
      "metadata": {
        "colab": {
          "base_uri": "https://localhost:8080/"
        },
        "id": "sSpdiF6sPTqm",
        "outputId": "c5ebe2b4-9f71-49e9-bdaa-c2287c56c9da"
      },
      "execution_count": null,
      "outputs": [
        {
          "output_type": "stream",
          "name": "stdout",
          "text": [
            "Cricket Tournament Name: Default\n",
            "Number of Teams: 0\n",
            "Type: No type\n",
            "-----------------------\n",
            "Cricket Tournament Name: IPL\n",
            "Number of Teams: 10\n",
            "Type: t20\n",
            "-----------------------\n",
            "Tennis Tournament Name: Roland Garros\n",
            "Number of Players: 128\n"
          ]
        }
      ]
    },
    {
      "cell_type": "markdown",
      "source": [
        "# task04"
      ],
      "metadata": {
        "id": "8CAdLAKgW8GM"
      }
    },
    {
      "cell_type": "code",
      "source": [
        "class Product:\n",
        "    def __init__(self,id, title, price):\n",
        "        self.__id = id\n",
        "        self.__title = title\n",
        "        self.__price = price\n",
        "    def get_id_title_price(self):\n",
        "        return \"ID: \"+str(self.__id)+\" Title:\"+self.__title+\" Price: \"+str(self.__price)\n",
        "#write your code here\n",
        "class Book(Product):\n",
        "    def __init__(self,id,title,price,isbn,pub):\n",
        "        super().__init__(id,title,price)\n",
        "        self.isbn = isbn\n",
        "        self.pub = pub\n",
        "    def printDetail(self):\n",
        "         return self.get_id_title_price() + f\" \\nISBN: {self.isbn} Publisher: {self.pub}\" \n",
        "            \n",
        "class CD(Product):\n",
        "    def __init__(self,id,title,price,band,dur,gen):\n",
        "        super().__init__(id,title,price)\n",
        "        self.band = band\n",
        "        self.dur = dur\n",
        "        self.gen = gen\n",
        "    def printDetail(self):\n",
        "        return self.get_id_title_price() + f\" \\nBand: {self.band} Duration: {self.dur} minutes \\nGenre: {self.gen}\"\n",
        "book = Book(1,\"The Alchemist\",500,\"97806\",\"HarperCollins\")\n",
        "print(book.printDetail())\n",
        "print(\"-----------------------\")\n",
        "cd = CD(2,\"Shotto\",300,\"Warfaze\",50,\"Hard Rock\")\n",
        "print(cd.printDetail())\n",
        "\n"
      ],
      "metadata": {
        "colab": {
          "base_uri": "https://localhost:8080/"
        },
        "id": "D19mhNLCUE_x",
        "outputId": "333cb9ae-943f-4950-eae4-d1c130a579a6"
      },
      "execution_count": 17,
      "outputs": [
        {
          "output_type": "stream",
          "name": "stdout",
          "text": [
            "ID: 1 Title:The Alchemist Price: 500 \n",
            "ISBN: 97806 Publisher: HarperCollins\n",
            "-----------------------\n",
            "ID: 2 Title:Shotto Price: 300 \n",
            "Band: Warfaze Duration: 50 minutes \n",
            "Genre: Hard Rock\n"
          ]
        }
      ]
    },
    {
      "cell_type": "markdown",
      "source": [
        "# task05"
      ],
      "metadata": {
        "id": "nXUc0ywncaQM"
      }
    },
    {
      "cell_type": "code",
      "source": [
        "class Animal:   \n",
        "    def __init__(self,sound):\n",
        "        self.__sound = sound\n",
        "        \n",
        "    def makeSound(self):\n",
        "        return self.__sound\n",
        "        \n",
        "\n",
        "\n",
        "class Printer:   \n",
        "    def printSound(self, a):\n",
        "        print(a.makeSound())\n",
        "        \n",
        "class Dog(Animal):\n",
        "    pass\n",
        "class Cat(Animal):\n",
        "    pass\n",
        "\n",
        "#write your code here\n",
        "\n",
        "d1 = Dog('bark')\n",
        "c1 = Cat('meow')\n",
        "a1 = Animal('Animal does not make sound')\n",
        "pr = Printer()\n",
        "pr.printSound(a1)\n",
        "pr.printSound(c1)\n",
        "pr.printSound(d1)"
      ],
      "metadata": {
        "colab": {
          "base_uri": "https://localhost:8080/"
        },
        "id": "xCRLQ-VrYdcC",
        "outputId": "160f96fe-8a28-463b-9ddf-8e0d3990d274"
      },
      "execution_count": null,
      "outputs": [
        {
          "output_type": "stream",
          "name": "stdout",
          "text": [
            "Animal does not make sound\n",
            "meow\n",
            "bark\n"
          ]
        }
      ]
    },
    {
      "cell_type": "markdown",
      "source": [
        "# task06"
      ],
      "metadata": {
        "id": "PDzxAjOOctTb"
      }
    },
    {
      "cell_type": "code",
      "source": [
        "class Shape:\n",
        "\n",
        "  def __init__(self, name='Default', height=0, base=0):\n",
        "    self.area = 0\n",
        "    self.name = name\n",
        "    self.height = height\n",
        "    self.base = base\n",
        "\n",
        "  def get_height_base(self):\n",
        "    return \"Height: \"+str(self.height)+\",Base: \"+str(self.base)\n",
        "\n",
        "#write your code here\n",
        "class triangle(Shape):\n",
        "    def __init__(self,name = \"Default\",height= 0,base=0):\n",
        "        super().__init__(name,height,base)\n",
        "    def calcArea (self):\n",
        "        self.area = self.height*self.base*0.5\n",
        "    def printDetail(self):\n",
        "        return f\"Shape name: {self.name}\\n\" + self.get_height_base() + f\" \\nArea: {self.area}\"\n",
        "class trapezoid(Shape):\n",
        "    def __init__(self,name,height,base,side_A):\n",
        "        super().__init__(name,height,base)\n",
        "        self.side_A = side_A\n",
        "    def calcArea(self):\n",
        "        self.area = (self.base + self.side_A)/2 * self.height\n",
        "    def printDetail(self):\n",
        "        return f\"Shape name: {self.name}\\n\" + self.get_height_base() + f\" Side_A: {self.side_A} \\nArea: {self.area}\"\n",
        "\n",
        "tri_default = triangle()\n",
        "tri_default.calcArea()\n",
        "print(tri_default.printDetail())\n",
        "print('--------------------------')\n",
        "tri = triangle('Triangle', 10, 5)\n",
        "tri.calcArea()\n",
        "print(tri.printDetail())\n",
        "print('---------------------------')\n",
        "trap = trapezoid('Trapezoid', 10, 6, 4)\n",
        "trap.calcArea()\n",
        "print(trap.printDetail())\n"
      ],
      "metadata": {
        "colab": {
          "base_uri": "https://localhost:8080/"
        },
        "id": "kEGAxHl-co5U",
        "outputId": "81783174-df0b-4f9e-eb4a-68ae1231bd2a"
      },
      "execution_count": 18,
      "outputs": [
        {
          "output_type": "stream",
          "name": "stdout",
          "text": [
            "Shape name: Default\n",
            "Height: 0,Base: 0 \n",
            "Area: 0.0\n",
            "--------------------------\n",
            "Shape name: Triangle\n",
            "Height: 10,Base: 5 \n",
            "Area: 25.0\n",
            "---------------------------\n",
            "Shape name: Trapezoid\n",
            "Height: 10,Base: 6 Side_A: 4 \n",
            "Area: 50.0\n"
          ]
        }
      ]
    },
    {
      "cell_type": "markdown",
      "source": [
        "task07"
      ],
      "metadata": {
        "id": "f7PWg84vheCd"
      }
    },
    {
      "cell_type": "code",
      "source": [
        "class SportsPerson:\n",
        "\n",
        "  def __init__(self, team_name, name, role):\n",
        "    self.__team = team_name\n",
        "    self.__name = name\n",
        "    self.role = role\n",
        "    self.earning_per_match = 0\n",
        "\n",
        "  def get_name_team(self):\n",
        "    return 'Name: '+self.__name+', Team Name: ' +self.__team\n",
        "class Player(SportsPerson):\n",
        "    def __init__(self,team_name,name,role,tg,tp):\n",
        "        super().__init__(team_name,name,role)\n",
        "        self.tg = tg\n",
        "        self.tp = tp\n",
        "    def calculate_ratio(self):\n",
        "        self.gr = self.tg/self.tp\n",
        "\n",
        "    def print_details(self):\n",
        "        self.earning_per_match += (self.tg * 1000) + (self.tp * 10)\n",
        "        print(self.get_name_team() + f\" \\nTotal Goal: {self.tg}, Total Played: {self.tp} \\nGoal Ratio: {self.gr} \\nMatch Earning: {self.earning_per_match}K\")\n",
        "\n",
        "\n",
        "class Manager(SportsPerson):\n",
        "    def __init__(self,team_name,name,role,tw):\n",
        "        super().__init__(team_name,name,role)\n",
        "        self.tw = tw\n",
        "        self.me = 0\n",
        "    def print_details(self):\n",
        "        self.me += self.tw*1000\n",
        "        print(self.get_name_team() + f\" \\nTotal Win: {self.tw} \\nMatch Earning: {self.me}K\")\n",
        "#write your code here\n",
        "\n",
        "player_one = Player('Juventus', 'Ronaldo', 'Striker', 25, 32)\n",
        "player_one.calculate_ratio()\n",
        "player_one.print_details()\n",
        "print('------------------------------------------')\n",
        "manager_one = Manager('Real Madrid', 'Zidane', 'Manager', 25)\n",
        "manager_one.print_details()\n"
      ],
      "metadata": {
        "colab": {
          "base_uri": "https://localhost:8080/"
        },
        "id": "xtaE7GCxereM",
        "outputId": "e73c682f-1d3b-43fb-f30f-d0e6990a002d"
      },
      "execution_count": 13,
      "outputs": [
        {
          "output_type": "stream",
          "name": "stdout",
          "text": [
            "Name: Ronaldo, Team Name: Juventus \n",
            "Total Goal: 25, Total Played: 32 \n",
            "Goal Ratio: 0.78125 \n",
            "Match Earning: 25320K\n",
            "------------------------------------------\n",
            "Name: Zidane, Team Name: Real Madrid \n",
            "Total Win: 25 \n",
            "Match Earning: 25000K\n"
          ]
        }
      ]
    }
  ]
}